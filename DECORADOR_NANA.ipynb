{
  "nbformat": 4,
  "nbformat_minor": 0,
  "metadata": {
    "colab": {
      "provenance": [],
      "authorship_tag": "ABX9TyOnLLt+4hZPciTrSWUoR8//",
      "include_colab_link": true
    },
    "kernelspec": {
      "name": "python3",
      "display_name": "Python 3"
    },
    "language_info": {
      "name": "python"
    }
  },
  "cells": [
    {
      "cell_type": "markdown",
      "metadata": {
        "id": "view-in-github",
        "colab_type": "text"
      },
      "source": [
        "<a href=\"https://colab.research.google.com/github/MARIANA-BAT/Hola-mundo/blob/main/DECORADOR_NANA.ipynb\" target=\"_parent\"><img src=\"https://colab.research.google.com/assets/colab-badge.svg\" alt=\"Open In Colab\"/></a>"
      ]
    },
    {
      "cell_type": "code",
      "execution_count": null,
      "metadata": {
        "colab": {
          "base_uri": "https://localhost:8080/"
        },
        "id": "QLjYvtMIgDva",
        "outputId": "8f69b986-6f80-47dc-9bf4-78493464646f"
      },
      "outputs": [
        {
          "output_type": "stream",
          "name": "stdout",
          "text": [
            "Tiempo de inicio:  1685045441.9841251\n",
            "Tiempo final:  1685045443.9861355\n",
            "Duración:  2.0020103454589844\n"
          ]
        }
      ],
      "source": [
        "#EJERCICIO 1\n",
        "import time\n",
        "\n",
        "def calcular_tiempo(func):\n",
        "    def wrapper(*args, **kwargs):\n",
        "        inicio = time.time()\n",
        "        resultado = func(*args, **kwargs)\n",
        "        final = time.time()\n",
        "        duracion = final - inicio\n",
        "\n",
        "        print(\"Tiempo de inicio: \", inicio)\n",
        "        print(\"Tiempo final: \", final)\n",
        "        print(\"Duración: \", duracion)\n",
        "\n",
        "        return resultado\n",
        "    return wrapper\n",
        "\n",
        "# Ejemplo de función decorada\n",
        "@calcular_tiempo\n",
        "def mi_funcion():\n",
        "    # Simulación de trabajo\n",
        "    time.sleep(2)\n",
        "\n",
        "# Llamada a la función decorada\n",
        "mi_funcion()\n"
      ]
    },
    {
      "cell_type": "code",
      "source": [
        "#EJERCICIO 2\n",
        "import time\n",
        "import random\n",
        "\n",
        "DEBUG = True\n",
        "\n",
        "def calcular_tiempo(func):\n",
        "    def wrapper(*args, **kwargs):\n",
        "        inicio = random.randint(1, 10)  # Generar un tiempo aleatorio de inicio\n",
        "        resultado = func(*args, **kwargs)\n",
        "        final = inicio + random.randint(1, 10)  # Generar un tiempo aleatorio de final\n",
        "        duracion = final - inicio\n",
        "\n",
        "        if DEBUG:\n",
        "            print(\"Tiempo de inicio: \", inicio)\n",
        "            print(\"Duración: \", duracion)\n",
        "            print(\"Tiempo final: \", final)\n",
        "            \n",
        "\n",
        "        return resultado\n",
        "\n",
        "    return wrapper\n",
        "\n",
        "# Ejemplo de función decorada\n",
        "@calcular_tiempo\n",
        "def mi_funcion():\n",
        "    # Simulación de trabajo\n",
        "    time.sleep(2)\n",
        "\n",
        "# Llamada a la función decorada\n",
        "mi_funcion()"
      ],
      "metadata": {
        "id": "UHZxbXIqiRQu",
        "colab": {
          "base_uri": "https://localhost:8080/"
        },
        "outputId": "a8107cfb-61d1-4235-ff9c-a184c1537141"
      },
      "execution_count": 10,
      "outputs": [
        {
          "output_type": "stream",
          "name": "stdout",
          "text": [
            "Tiempo de inicio:  2\n",
            "Duración:  6\n",
            "Tiempo final:  8\n"
          ]
        }
      ]
    }
  ]
}